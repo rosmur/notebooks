{
 "cells": [
  {
   "cell_type": "markdown",
   "metadata": {},
   "source": [
    "# Introduction\n",
    "\n",
    "Wanted to test out the currently popular LLMs head to head on a simple coding task to generate the Fibonacci sequence. Interested to not just see if the code runs, but whether best practices are used \n",
    "\n",
    "UI: https://app.airtrain.ai/playground\n",
    "\n",
    "Prompt: Generate python code for creating the fibonacci sequence of x length where x is inputted by the user\n",
    "\n",
    "All models set to temperature=0.01"
   ]
  },
  {
   "cell_type": "markdown",
   "metadata": {},
   "source": [
    "# TL;DR:\n",
    "\n",
    "| Model | Worked | Comments |\n",
    "|----- | --- | --- |\n",
    "| Gemini | Yes | Not the most elegant |\n",
    "| GPT-4 | Yes | Best code of all, but doesnt use recursion |\n",
    "| Mistral | Yes | Generated the typical recursive function based approach |\n",
    "| Llama2 | No | Completely wrong |\n",
    "| Phi-2 | Yes | Surprisingly works, reasonably approach |\n"
   ]
  },
  {
   "cell_type": "markdown",
   "metadata": {},
   "source": [
    "# Gemini\n",
    "gemini-pro"
   ]
  },
  {
   "cell_type": "code",
   "execution_count": 1,
   "metadata": {},
   "outputs": [
    {
     "name": "stdout",
     "output_type": "stream",
     "text": [
      "The fibonacci sequence of length 10 is: [0, 1, 1, 2, 3, 5, 8, 13, 21, 34]\n"
     ]
    }
   ],
   "source": [
    "# Get the length of the sequence from the user\n",
    "length = int(input(\"Enter the length of the sequence: \"))\n",
    "\n",
    "# Initialize the first two numbers of the sequence\n",
    "a = 0\n",
    "b = 1\n",
    "\n",
    "# Create an empty list to store the sequence\n",
    "fibonacci_sequence = []\n",
    "\n",
    "# Append the first two numbers to the list\n",
    "fibonacci_sequence.append(a)\n",
    "fibonacci_sequence.append(b)\n",
    "\n",
    "# Generate the rest of the sequence\n",
    "for i in range(2, length):\n",
    "    c = a + b\n",
    "    fibonacci_sequence.append(c)\n",
    "    a = b\n",
    "    b = c\n",
    "\n",
    "# Print the sequence\n",
    "print(\"The fibonacci sequence of length\", length, \"is:\", fibonacci_sequence)"
   ]
  },
  {
   "cell_type": "markdown",
   "metadata": {},
   "source": [
    "## Results\n",
    "\n",
    "Works. \n",
    "\n",
    "Not the most elegant"
   ]
  },
  {
   "cell_type": "markdown",
   "metadata": {},
   "source": [
    "# OpenAI GPT4  "
   ]
  },
  {
   "cell_type": "code",
   "execution_count": 2,
   "metadata": {},
   "outputs": [
    {
     "name": "stdout",
     "output_type": "stream",
     "text": [
      "[0, 1, 1, 2, 3, 5, 8, 13, 21, 34]\n"
     ]
    }
   ],
   "source": [
    "def fibonacci_sequence(n):\n",
    "    sequence = []\n",
    "    a, b = 0, 1\n",
    "    while len(sequence) < n:\n",
    "        sequence.append(a)\n",
    "        a, b = b, a + b\n",
    "    return sequence\n",
    "\n",
    "x = int(input(\"Enter the length of the Fibonacci sequence: \"))\n",
    "print(fibonacci_sequence(x))"
   ]
  },
  {
   "cell_type": "markdown",
   "metadata": {},
   "source": [
    "## Results:\n",
    "\n",
    "Works.\n",
    "\n",
    "Best code of all, but doesnt use recursion"
   ]
  },
  {
   "cell_type": "markdown",
   "metadata": {},
   "source": [
    "# Mistral\n",
    "mistal-7b-instruct-bfloat16"
   ]
  },
  {
   "cell_type": "code",
   "execution_count": 3,
   "metadata": {},
   "outputs": [
    {
     "name": "stdout",
     "output_type": "stream",
     "text": [
      "The Fibonacci sequence of length 10 is:\n",
      "0 1 1 2 3 5 8 13 21 34 "
     ]
    }
   ],
   "source": [
    "def fibonacci(x):\n",
    "    if x <= 0:\n",
    "        return []\n",
    "    elif x == 1:\n",
    "        return [0]\n",
    "    elif x == 2:\n",
    "        return [0, 1]\n",
    "    else:\n",
    "        fib_seq = fibonacci(x - 1)\n",
    "        fib_seq.append(fib_seq[-1] + fib_seq[-2])\n",
    "        return fib_seq\n",
    "\n",
    "x = int(input(\"Enter the length of the Fibonacci sequence: \"))\n",
    "fib_seq = fibonacci(x)\n",
    "\n",
    "print(f\"The Fibonacci sequence of length {x} is:\")\n",
    "for num in fib_seq:\n",
    "    print(num, end=\" \")"
   ]
  },
  {
   "cell_type": "markdown",
   "metadata": {},
   "source": [
    "## Results\n",
    "\n",
    "Works.\n",
    "Perfect, uses the recursive function approach"
   ]
  },
  {
   "cell_type": "markdown",
   "metadata": {},
   "source": [
    "# Llama2\n",
    "\n",
    "13B-chat-float16"
   ]
  },
  {
   "cell_type": "code",
   "execution_count": 4,
   "metadata": {},
   "outputs": [
    {
     "name": "stdout",
     "output_type": "stream",
     "text": [
      "The Fibonacci sequence of length 10 is:\n",
      "21\n",
      "21\n",
      "21\n",
      "21\n",
      "21\n",
      "21\n",
      "21\n",
      "21\n",
      "21\n",
      "21\n"
     ]
    }
   ],
   "source": [
    "# Get the length of the Fibonacci sequence from the user\n",
    "length = int(input(\"Enter the length of the Fibonacci sequence: \"))\n",
    "\n",
    "# Initialize the first two elements of the sequence\n",
    "a = 0\n",
    "b = 1\n",
    "\n",
    "# Generate the rest of the sequence\n",
    "for i in range(2, length):\n",
    "    # Calculate the next element of the sequence\n",
    "    a, b = b, a + b\n",
    "\n",
    "# Print the sequence\n",
    "print(\"The Fibonacci sequence of length\", length, \"is:\")\n",
    "for i in range(length):\n",
    "    print(a)"
   ]
  },
  {
   "cell_type": "markdown",
   "metadata": {},
   "source": [
    "## Results\n",
    "\n",
    "Completely wrong"
   ]
  },
  {
   "cell_type": "markdown",
   "metadata": {},
   "source": [
    "# Phi-2\n",
    "\n",
    "3B-insrtuct"
   ]
  },
  {
   "cell_type": "code",
   "execution_count": 7,
   "metadata": {},
   "outputs": [
    {
     "name": "stdout",
     "output_type": "stream",
     "text": [
      "[0, 1, 1, 2, 3, 5, 8, 13, 21, 34]\n"
     ]
    }
   ],
   "source": [
    "def fibonacciSequence(x):\n",
    "\n",
    "    a = 0\n",
    "    b = 1\n",
    "    output = [a, b]\n",
    "\n",
    "    for _ in range(2, x):\n",
    "        c = a + b\n",
    "        a = b\n",
    "        b = c\n",
    "        output.append(c)\n",
    "\n",
    "    return output\n",
    "\n",
    "print(fibonacciSequence(10))"
   ]
  },
  {
   "cell_type": "markdown",
   "metadata": {},
   "source": [
    "# Results\n",
    "\n",
    "Works.\n",
    "\n",
    "Not the traditional approach (?), but hey it did it!"
   ]
  }
 ],
 "metadata": {
  "kernelspec": {
   "display_name": "Python 3",
   "language": "python",
   "name": "python3"
  },
  "language_info": {
   "codemirror_mode": {
    "name": "ipython",
    "version": 3
   },
   "file_extension": ".py",
   "mimetype": "text/x-python",
   "name": "python",
   "nbconvert_exporter": "python",
   "pygments_lexer": "ipython3",
   "version": "3.9.15"
  }
 },
 "nbformat": 4,
 "nbformat_minor": 2
}
